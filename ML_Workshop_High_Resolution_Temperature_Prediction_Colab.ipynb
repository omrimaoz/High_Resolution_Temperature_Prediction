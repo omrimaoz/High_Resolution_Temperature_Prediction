{
  "nbformat": 4,
  "nbformat_minor": 0,
  "metadata": {
    "colab": {
      "provenance": [],
      "collapsed_sections": []
    },
    "kernelspec": {
      "name": "python3",
      "display_name": "Python 3"
    },
    "language_info": {
      "name": "python"
    },
    "accelerator": "GPU",
    "gpuClass": "standard"
  },
  "cells": [
    {
      "cell_type": "code",
      "execution_count": null,
      "metadata": {
        "colab": {
          "base_uri": "https://localhost:8080/"
        },
        "id": "xGSq-9taJsBH",
        "outputId": "8d05baf8-e17a-475c-df07-66c6cb4d64b6"
      },
      "outputs": [
        {
          "output_type": "stream",
          "name": "stdout",
          "text": [
            "Mounted at /content/drive\n"
          ]
        }
      ],
      "source": [
        "from google.colab import drive\n",
        "drive.mount ('/content/drive')"
      ]
    },
    {
      "cell_type": "code",
      "source": [
        "%cd /content/drive/MyDrive/ML_Workshop"
      ],
      "metadata": {
        "id": "ORo3tbNxJtTi",
        "colab": {
          "base_uri": "https://localhost:8080/"
        },
        "outputId": "23652892-be5f-481e-b675-63c4cd68a944"
      },
      "execution_count": null,
      "outputs": [
        {
          "output_type": "stream",
          "name": "stdout",
          "text": [
            "/content/drive/MyDrive/ML_Workshop\n"
          ]
        }
      ]
    },
    {
      "cell_type": "code",
      "source": [
        "!pip install imagecodecs"
      ],
      "metadata": {
        "id": "zsv56EI8JuXp",
        "colab": {
          "base_uri": "https://localhost:8080/"
        },
        "outputId": "20eda0bd-0081-4555-ae45-2d5ea057c000"
      },
      "execution_count": null,
      "outputs": [
        {
          "output_type": "stream",
          "name": "stdout",
          "text": [
            "Looking in indexes: https://pypi.org/simple, https://us-python.pkg.dev/colab-wheels/public/simple/\n",
            "Collecting imagecodecs\n",
            "  Downloading imagecodecs-2021.11.20-cp37-cp37m-manylinux_2_17_x86_64.manylinux2014_x86_64.whl (31.0 MB)\n",
            "\u001b[K     |████████████████████████████████| 31.0 MB 1.2 MB/s \n",
            "\u001b[?25hRequirement already satisfied: numpy>=1.16.5 in /usr/local/lib/python3.7/dist-packages (from imagecodecs) (1.21.6)\n",
            "Installing collected packages: imagecodecs\n",
            "Successfully installed imagecodecs-2021.11.20\n"
          ]
        }
      ]
    },
    {
      "cell_type": "code",
      "source": [
        "from Main import *"
      ],
      "metadata": {
        "id": "KxDD0reLJumw",
        "colab": {
          "base_uri": "https://localhost:8080/"
        },
        "outputId": "fbea1e04-577b-4e57-97d8-4969e48d5e0e"
      },
      "execution_count": null,
      "outputs": [
        {
          "output_type": "stream",
          "name": "stdout",
          "text": [
            "device: cuda:0\n"
          ]
        }
      ]
    },
    {
      "cell_type": "code",
      "source": [
        "opt = {\n",
        "    'to_train': True,\n",
        "    'isCE': True,\n",
        "    'criterion': nn.CrossEntropyLoss,\n",
        "    'dirs': ['Zeelim_30.5.19_0630_E', 'Mishmar_30.7.19_0820_S', 'Zeelim_23.9.19_1100_E',\n",
        "              'Mishmar_3.3.20_1510_N', 'Zeelim_7.11.19_1550_W', 'Zeelim_29.5.19_1730_W'],\n",
        "    'model_name': 'ResNet18',\n",
        "    'sampling_method': 'RFP',\n",
        "    'samples': 50000,\n",
        "    'exclude': False,\n",
        "    'bias': None,\n",
        "    'normalize': False,\n",
        "    'label_kind': 'ir',\n",
        "    'use_loss_weights': False,\n",
        "    'augmentation': False,\n",
        "    'augmentation_p': 0.25,\n",
        "    'augmentation_by_level': None,  # np.array([6, 3, 0, 0, 0]),\n",
        "    'use_pretrained_weights': False,\n",
        "    \"epochs\": 0\n",
        "}\n",
        "model, mae = get_best_model('ResNet18', opt)\n",
        "opt['model'] = model\n",
        "if model:\n",
        "  print('Found Model - MAE: {}'.format(mae))\n",
        "else:\n",
        "  print('No Model')\n"
      ],
      "metadata": {
        "id": "sQpkDy7XJu2P",
        "colab": {
          "base_uri": "https://localhost:8080/"
        },
        "outputId": "e4b0eebd-7f74-45d1-dc6e-2cf37ddfcb16"
      },
      "execution_count": null,
      "outputs": [
        {
          "output_type": "stream",
          "name": "stderr",
          "text": [
            "/content/drive/MyDrive/ML_Workshop/Models.py:163: UserWarning: nn.init.xavier_uniform is now deprecated in favor of nn.init.xavier_uniform_.\n",
            "  torch.nn.init.xavier_uniform(self.conv1.weight, gain=nn.init.calculate_gain('relu'))\n"
          ]
        },
        {
          "output_type": "stream",
          "name": "stdout",
          "text": [
            "Found Model - MAE: ConvNet_030922_mae0.821.pt\n"
          ]
        }
      ]
    },
    {
      "cell_type": "code",
      "source": [
        "model = main(opt) if opt['to_train'] else model"
      ],
      "metadata": {
        "id": "cTlBfbRFJzs8"
      },
      "execution_count": null,
      "outputs": []
    },
    {
      "cell_type": "markdown",
      "source": [],
      "metadata": {
        "id": "W6GQhBMW5Nnq"
      }
    }
  ]
}